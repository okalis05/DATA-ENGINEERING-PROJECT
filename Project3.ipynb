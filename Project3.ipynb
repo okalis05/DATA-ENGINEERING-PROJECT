{
 "cells": [
  {
   "cell_type": "code",
   "execution_count": 2,
   "id": "4c1bb15d-ce5d-4c78-9af2-f6d4a98d5577",
   "metadata": {},
   "outputs": [
    {
     "name": "stdout",
     "output_type": "stream",
     "text": [
      "Collecting ERAlchemy\n",
      "  Downloading ERAlchemy-1.2.10-py2.py3-none-any.whl.metadata (4.8 kB)\n",
      "Requirement already satisfied: SQLAlchemy in /opt/anaconda3/lib/python3.11/site-packages (from ERAlchemy) (2.0.25)\n",
      "Collecting pygraphviz (from ERAlchemy)\n",
      "  Downloading pygraphviz-1.13.tar.gz (104 kB)\n",
      "\u001b[2K     \u001b[90m━━━━━━━━━━━━━━━━━━━━━━━━━━━━━━━━━━━━━━━\u001b[0m \u001b[32m104.6/104.6 kB\u001b[0m \u001b[31m1.0 MB/s\u001b[0m eta \u001b[36m0:00:00\u001b[0ma \u001b[36m0:00:01\u001b[0m\n",
      "\u001b[?25h  Installing build dependencies ... \u001b[?25ldone\n",
      "\u001b[?25h  Getting requirements to build wheel ... \u001b[?25ldone\n",
      "\u001b[?25h  Installing backend dependencies ... \u001b[?25ldone\n",
      "\u001b[?25h  Preparing metadata (pyproject.toml) ... \u001b[?25ldone\n",
      "\u001b[?25hRequirement already satisfied: typing-extensions>=4.6.0 in /opt/anaconda3/lib/python3.11/site-packages (from SQLAlchemy->ERAlchemy) (4.9.0)\n",
      "Downloading ERAlchemy-1.2.10-py2.py3-none-any.whl (14 kB)\n",
      "Building wheels for collected packages: pygraphviz\n",
      "  Building wheel for pygraphviz (pyproject.toml) ... \u001b[?25ldone\n",
      "\u001b[?25h  Created wheel for pygraphviz: filename=pygraphviz-1.13-cp311-cp311-macosx_11_0_arm64.whl size=90839 sha256=c976468c5e74a1f03351f77096a406b3a4b2669c26dc0eacf8c54e2dcce996ba\n",
      "  Stored in directory: /Users/francoiseelismbazoaokala/Library/Caches/pip/wheels/99/87/82/379ff97012dbfa9ff79c620b9aa7ebe1c7ddae966d7776f06f\n",
      "Successfully built pygraphviz\n",
      "Installing collected packages: pygraphviz, ERAlchemy\n",
      "Successfully installed ERAlchemy-1.2.10 pygraphviz-1.13\n",
      "Note: you may need to restart the kernel to use updated packages.\n"
     ]
    }
   ],
   "source": [
    "pip install ERAlchemy\n"
   ]
  },
  {
   "cell_type": "code",
   "execution_count": 6,
   "id": "e4251351-3453-4df8-9d81-7656a3463566",
   "metadata": {},
   "outputs": [
    {
     "name": "stdout",
     "output_type": "stream",
     "text": [
      "Collecting eralchemy2\n",
      "  Downloading eralchemy2-1.4.1-py3-none-any.whl.metadata (5.6 kB)\n",
      "Requirement already satisfied: sqlalchemy>=1.4 in /opt/anaconda3/lib/python3.11/site-packages (from eralchemy2) (2.0.25)\n",
      "Requirement already satisfied: pygraphviz>=1.9 in /opt/anaconda3/lib/python3.11/site-packages (from eralchemy2) (1.13)\n",
      "Requirement already satisfied: typing-extensions>=4.6.0 in /opt/anaconda3/lib/python3.11/site-packages (from sqlalchemy>=1.4->eralchemy2) (4.9.0)\n",
      "Downloading eralchemy2-1.4.1-py3-none-any.whl (18 kB)\n",
      "Installing collected packages: eralchemy2\n",
      "Successfully installed eralchemy2-1.4.1\n",
      "Note: you may need to restart the kernel to use updated packages.\n"
     ]
    }
   ],
   "source": [
    "pip install eralchemy2\n"
   ]
  },
  {
   "cell_type": "code",
   "execution_count": 10,
   "id": "20695b5b-8c5e-42cb-b2d6-178057a82e87",
   "metadata": {},
   "outputs": [],
   "source": [
    "%matplotlib inline\n",
    "from matplotlib import style\n",
    "style.use('fivethirtyeight')\n",
    "import matplotlib.pyplot as plt"
   ]
  },
  {
   "cell_type": "code",
   "execution_count": 12,
   "id": "10c98063-a958-4c1a-982b-e76d2a442b96",
   "metadata": {},
   "outputs": [],
   "source": [
    "import numpy as np\n",
    "import pandas as pd\n",
    "import datetime as dt"
   ]
  },
  {
   "cell_type": "code",
   "execution_count": 14,
   "id": "e2587a37-86cf-4aa9-938b-85a39a0736d2",
   "metadata": {},
   "outputs": [],
   "source": [
    "# Python SQL toolkit and Object Relational Mapper\n",
    "from eralchemy import render_er\n",
    "## Draw from SQLAlchemy base\n",
    "render_er(Base, 'erd_from_sqlalchemy.png')\n",
    "\n",
    "## Draw from database\n",
    "render_er(\"sqlite:///relative/path/to/db.db\", 'erd_from_sqlite.png')\n",
    "import sqlalchemy\n",
    "from sqlalchemy.ext.automap import automap_base\n",
    "from sqlalchemy.orm import Session"
   ]
  },
  {
   "cell_type": "code",
   "execution_count": 16,
   "id": "8c15193e-17a0-4958-ba8b-36c0b8aa9e0b",
   "metadata": {},
   "outputs": [
    {
     "ename": "NameError",
     "evalue": "name 'create_engine' is not defined",
     "output_type": "error",
     "traceback": [
      "\u001b[0;31m---------------------------------------------------------------------------\u001b[0m",
      "\u001b[0;31mNameError\u001b[0m                                 Traceback (most recent call last)",
      "Cell \u001b[0;32mIn[16], line 2\u001b[0m\n\u001b[1;32m      1\u001b[0m \u001b[38;5;66;03m# create engine to hawaii.sqlite\u001b[39;00m\n\u001b[0;32m----> 2\u001b[0m engine \u001b[38;5;241m=\u001b[39m create_engine(\u001b[38;5;124m\"\u001b[39m\u001b[38;5;124msqlite:///Resources/hawaii.sqlite\u001b[39m\u001b[38;5;124m\"\u001b[39m)\n",
      "\u001b[0;31mNameError\u001b[0m: name 'create_engine' is not defined"
     ]
    }
   ],
   "source": [
    "# create engine to hawaii.sqlite\n",
    "engine = create_engine(\"sqlite:///..\")"
   ]
  },
  {
   "cell_type": "code",
   "execution_count": null,
   "id": "783146b1-fcf8-41e8-9725-a65aa57372c3",
   "metadata": {},
   "outputs": [],
   "source": [
    "# reflect an existing database into a new model\n",
    "Base = automap_base()\n",
    "# reflect the tables\n",
    "Base.prepare(autoload_with=engine)"
   ]
  },
  {
   "cell_type": "code",
   "execution_count": null,
   "id": "5a5eb792-2b5b-4a8f-81d3-0b2508b85e24",
   "metadata": {},
   "outputs": [],
   "source": [
    "# View all of the classes that automap found\n",
    "Base.classes.keys()"
   ]
  },
  {
   "cell_type": "code",
   "execution_count": null,
   "id": "c4049df2-fa95-4588-85d8-233ea6a56cbd",
   "metadata": {},
   "outputs": [],
   "source": [
    "# Save references to each table\n",
    "Netflix = Base.classes.netflix\n",
    "Movie = Base.classes.movie\n",
    "Director = Base.classes.director\n",
    "Cast = Base.classes.cast"
   ]
  },
  {
   "cell_type": "code",
   "execution_count": null,
   "id": "47b6fd88-b5ad-42ef-be28-575bbeecfa36",
   "metadata": {},
   "outputs": [],
   "source": []
  },
  {
   "cell_type": "code",
   "execution_count": null,
   "id": "5afdf124-8b0e-4935-a82a-1c0baaffa10c",
   "metadata": {},
   "outputs": [],
   "source": [
    "# Create our session (link) from Python to the DB\n",
    "session = Session(bind=engine)"
   ]
  }
 ],
 "metadata": {
  "kernelspec": {
   "display_name": "Python 3 (ipykernel)",
   "language": "python",
   "name": "python3"
  },
  "language_info": {
   "codemirror_mode": {
    "name": "ipython",
    "version": 3
   },
   "file_extension": ".py",
   "mimetype": "text/x-python",
   "name": "python",
   "nbconvert_exporter": "python",
   "pygments_lexer": "ipython3",
   "version": "3.11.7"
  }
 },
 "nbformat": 4,
 "nbformat_minor": 5
}
