{
 "cells": [
  {
   "cell_type": "code",
   "execution_count": 33,
   "id": "10c98063-a958-4c1a-982b-e76d2a442b96",
   "metadata": {},
   "outputs": [],
   "source": [
    "# Dependencies\n",
    "# ----------------------------------\n",
    "# Imports the method used for connecting to DBs\n",
    "from sqlalchemy import create_engine\n",
    "\n",
    "# Imports the methods needed to abstract classes into tables\n",
    "from sqlalchemy.ext.declarative import declarative_base\n",
    "\n",
    "# Allow us to declare column types\n",
    "from sqlalchemy import Column, Integer, String, Float "
   ]
  },
  {
   "cell_type": "code",
   "execution_count": 27,
   "id": "03d1dcff-76d4-40ee-a236-7e273c575f2d",
   "metadata": {},
   "outputs": [],
   "source": []
  },
  {
   "cell_type": "code",
   "execution_count": 29,
   "id": "55d8ee19-95a0-4900-a7ca-96f2bffb093c",
   "metadata": {},
   "outputs": [],
   "source": [
    "# Import the dependencies.\n",
    "from pathlib import Path\n",
    "from sqlalchemy import create_engine, text\n",
    "\n",
    "# Create a reference to the file.\n",
    "database_path = Path(\"/Users/francoiseelismbazoaokala/Documents/projects/DATA-ENGINEERING-PROJECT/output-files\")"
   ]
  },
  {
   "cell_type": "code",
   "execution_count": 31,
   "id": "2dfce324-217f-40f5-93b1-77a0876bf1fe",
   "metadata": {},
   "outputs": [],
   "source": [
    "# Create a connection that can talk to the database\n",
    "engine = create_engine(f\"sqlite:///{database_path}\")"
   ]
  },
  {
   "cell_type": "code",
   "execution_count": 23,
   "id": "59cbd77a-d093-42e3-8b34-82498948b28d",
   "metadata": {},
   "outputs": [
    {
     "ename": "NameError",
     "evalue": "name 'Base' is not defined",
     "output_type": "error",
     "traceback": [
      "\u001b[0;31m---------------------------------------------------------------------------\u001b[0m",
      "\u001b[0;31mNameError\u001b[0m                                 Traceback (most recent call last)",
      "Cell \u001b[0;32mIn[23], line 4\u001b[0m\n\u001b[1;32m      2\u001b[0m \u001b[38;5;28;01mfrom\u001b[39;00m \u001b[38;5;21;01meralchemy\u001b[39;00m \u001b[38;5;28;01mimport\u001b[39;00m render_er\n\u001b[1;32m      3\u001b[0m \u001b[38;5;66;03m## Draw from SQLAlchemy base\u001b[39;00m\n\u001b[0;32m----> 4\u001b[0m render_er(Base, \u001b[38;5;124m'\u001b[39m\u001b[38;5;124merd_from_sqlalchemy.png\u001b[39m\u001b[38;5;124m'\u001b[39m)\n\u001b[1;32m      6\u001b[0m \u001b[38;5;66;03m## Draw from database\u001b[39;00m\n\u001b[1;32m      7\u001b[0m render_er(\u001b[38;5;124m\"\u001b[39m\u001b[38;5;124msqlite:///relative/path/to/db.db\u001b[39m\u001b[38;5;124m\"\u001b[39m, \u001b[38;5;124m'\u001b[39m\u001b[38;5;124merd_from_sqlite.png\u001b[39m\u001b[38;5;124m'\u001b[39m)\n",
      "\u001b[0;31mNameError\u001b[0m: name 'Base' is not defined"
     ]
    }
   ],
   "source": [
    "# Python SQL toolkit and Object Relational Mapper\n",
    "from eralchemy import render_er\n",
    "## Draw from SQLAlchemy base\n",
    "render_er(Base, 'erd_from_sqlalchemy.png')\n",
    "\n",
    "## Draw from database\n",
    "render_er(\"sqlite:///relative/path/to/db.db\", 'erd_from_sqlite.png')\n",
    "import sqlalchemy\n",
    "from sqlalchemy.ext.automap import automap_base\n",
    "from sqlalchemy.orm import Session"
   ]
  },
  {
   "cell_type": "code",
   "execution_count": 15,
   "id": "e2587a37-86cf-4aa9-938b-85a39a0736d2",
   "metadata": {},
   "outputs": [
    {
     "ename": "NameError",
     "evalue": "name 'Base' is not defined",
     "output_type": "error",
     "traceback": [
      "\u001b[0;31m---------------------------------------------------------------------------\u001b[0m",
      "\u001b[0;31mNameError\u001b[0m                                 Traceback (most recent call last)",
      "Cell \u001b[0;32mIn[15], line 4\u001b[0m\n\u001b[1;32m      2\u001b[0m \u001b[38;5;28;01mfrom\u001b[39;00m \u001b[38;5;21;01meralchemy\u001b[39;00m \u001b[38;5;28;01mimport\u001b[39;00m render_er\n\u001b[1;32m      3\u001b[0m \u001b[38;5;66;03m## Draw from SQLAlchemy base\u001b[39;00m\n\u001b[0;32m----> 4\u001b[0m render_er(Base, \u001b[38;5;124m'\u001b[39m\u001b[38;5;124merd_from_sqlalchemy.png\u001b[39m\u001b[38;5;124m'\u001b[39m)\n\u001b[1;32m      6\u001b[0m \u001b[38;5;66;03m## Draw from database\u001b[39;00m\n\u001b[1;32m      7\u001b[0m render_er(\u001b[38;5;124m\"\u001b[39m\u001b[38;5;124msqlite:///relative/path/to/db.db\u001b[39m\u001b[38;5;124m\"\u001b[39m, \u001b[38;5;124m'\u001b[39m\u001b[38;5;124merd_from_sqlite.png\u001b[39m\u001b[38;5;124m'\u001b[39m)\n",
      "\u001b[0;31mNameError\u001b[0m: name 'Base' is not defined"
     ]
    }
   ],
   "source": [
    "# Python SQL toolkit and Object Relational Mapper\n",
    "from eralchemy import render_er\n",
    "## Draw from SQLAlchemy base\n",
    "render_er(Base, 'erd_from_sqlalchemy.png')\n",
    "\n",
    "## Draw from database\n",
    "render_er(\"sqlite:///relative/path/to/db.db\", 'erd_from_sqlite.png')\n",
    "import sqlalchemy\n",
    "from sqlalchemy.ext.automap import automap_base\n",
    "from sqlalchemy.orm import Session"
   ]
  },
  {
   "cell_type": "code",
   "execution_count": 16,
   "id": "8c15193e-17a0-4958-ba8b-36c0b8aa9e0b",
   "metadata": {},
   "outputs": [
    {
     "ename": "NameError",
     "evalue": "name 'create_engine' is not defined",
     "output_type": "error",
     "traceback": [
      "\u001b[0;31m---------------------------------------------------------------------------\u001b[0m",
      "\u001b[0;31mNameError\u001b[0m                                 Traceback (most recent call last)",
      "Cell \u001b[0;32mIn[16], line 2\u001b[0m\n\u001b[1;32m      1\u001b[0m \u001b[38;5;66;03m# create engine to hawaii.sqlite\u001b[39;00m\n\u001b[0;32m----> 2\u001b[0m engine \u001b[38;5;241m=\u001b[39m create_engine(\u001b[38;5;124m\"\u001b[39m\u001b[38;5;124msqlite:///Resources/hawaii.sqlite\u001b[39m\u001b[38;5;124m\"\u001b[39m)\n",
      "\u001b[0;31mNameError\u001b[0m: name 'create_engine' is not defined"
     ]
    }
   ],
   "source": [
    "# create engine to hawaii.sqlite\n",
    "engine = create_engine(\"sqlite:///..\")"
   ]
  },
  {
   "cell_type": "code",
   "execution_count": null,
   "id": "783146b1-fcf8-41e8-9725-a65aa57372c3",
   "metadata": {},
   "outputs": [],
   "source": [
    "# reflect an existing database into a new model\n",
    "Base = automap_base()\n",
    "# reflect the tables\n",
    "Base.prepare(autoload_with=engine)"
   ]
  },
  {
   "cell_type": "code",
   "execution_count": null,
   "id": "5a5eb792-2b5b-4a8f-81d3-0b2508b85e24",
   "metadata": {},
   "outputs": [],
   "source": [
    "# View all of the classes that automap found\n",
    "Base.classes.keys()"
   ]
  },
  {
   "cell_type": "code",
   "execution_count": null,
   "id": "c4049df2-fa95-4588-85d8-233ea6a56cbd",
   "metadata": {},
   "outputs": [],
   "source": [
    "# Save references to each table\n",
    "Netflix = Base.classes.netflix\n",
    "Movie = Base.classes.movie\n",
    "Director = Base.classes.director\n",
    "Cast = Base.classes.cast"
   ]
  },
  {
   "cell_type": "code",
   "execution_count": null,
   "id": "47b6fd88-b5ad-42ef-be28-575bbeecfa36",
   "metadata": {},
   "outputs": [],
   "source": []
  },
  {
   "cell_type": "code",
   "execution_count": null,
   "id": "5afdf124-8b0e-4935-a82a-1c0baaffa10c",
   "metadata": {},
   "outputs": [],
   "source": [
    "# Create our session (link) from Python to the DB\n",
    "session = Session(bind=engine)"
   ]
  },
  {
   "cell_type": "code",
   "execution_count": null,
   "id": "11903dd8-3f88-46d2-8184-aa194fd318e8",
   "metadata": {},
   "outputs": [],
   "source": [
    "# Use this to clear out the db\n",
    "# ----------------------------------\n",
    "Base.metadata.drop_all(engine)"
   ]
  }
 ],
 "metadata": {
  "kernelspec": {
   "display_name": "Python 3 (ipykernel)",
   "language": "python",
   "name": "python3"
  },
  "language_info": {
   "codemirror_mode": {
    "name": "ipython",
    "version": 3
   },
   "file_extension": ".py",
   "mimetype": "text/x-python",
   "name": "python",
   "nbconvert_exporter": "python",
   "pygments_lexer": "ipython3",
   "version": "3.11.7"
  }
 },
 "nbformat": 4,
 "nbformat_minor": 5
}
